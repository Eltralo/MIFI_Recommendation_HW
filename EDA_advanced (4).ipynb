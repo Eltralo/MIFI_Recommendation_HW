{
 "cells": [
  {
   "cell_type": "markdown",
   "id": "8428115f",
   "metadata": {},
   "source": [
    "### Выполнила: Ковалева Екатерина Сергеевна  НИЯУ МИФИ группа М24-525"
   ]
  },
  {
   "cell_type": "markdown",
   "id": "8618c501",
   "metadata": {},
   "source": [
    "## Import"
   ]
  },
  {
   "cell_type": "code",
   "execution_count": 2,
   "id": "879d3665",
   "metadata": {},
   "outputs": [],
   "source": [
    "import pandas as pd\n",
    "import missingno as msno\n",
    "import matplotlib.pyplot as plt\n",
    "import pandas as pd\n",
    "import requests\n",
    "import time\n",
    "import numpy as np\n",
    "import re\n",
    "import seaborn as sns\n"
   ]
  },
  {
   "cell_type": "markdown",
   "id": "f2d88c48",
   "metadata": {},
   "source": [
    "## Создание расширенных признаков"
   ]
  },
  {
   "cell_type": "markdown",
   "id": "c79c7c6b",
   "metadata": {},
   "source": [
    "**Здесь возьмем наш сохраненный, с заполнением пропусков OpenLibrary датасет и продолжим работать с ним для генерации дополнительных признаков. Остальные датасеты остались без изменений.**"
   ]
  },
  {
   "cell_type": "code",
   "execution_count": 27,
   "id": "180f1a5f",
   "metadata": {},
   "outputs": [],
   "source": [
    "books = pd.read_csv('/home/administrator/Desktop/IDE/Recomendation/books_new.csv')\n",
    "ratings = pd.read_csv('/home/administrator/Desktop/IDE/Recomendation/ratings.csv')\n",
    "tags =  pd.read_csv('/home/administrator/Desktop/IDE/Recomendation/tags.csv')\n",
    "book_tags = pd.read_csv('/home/administrator/Desktop/IDE/Recomendation/book_tags.csv')\n"
   ]
  },
  {
   "cell_type": "code",
   "execution_count": 6,
   "id": "ba164843",
   "metadata": {},
   "outputs": [
    {
     "data": {
      "text/html": [
       "<div>\n",
       "<style scoped>\n",
       "    .dataframe tbody tr th:only-of-type {\n",
       "        vertical-align: middle;\n",
       "    }\n",
       "\n",
       "    .dataframe tbody tr th {\n",
       "        vertical-align: top;\n",
       "    }\n",
       "\n",
       "    .dataframe thead th {\n",
       "        text-align: right;\n",
       "    }\n",
       "</style>\n",
       "<table border=\"1\" class=\"dataframe\">\n",
       "  <thead>\n",
       "    <tr style=\"text-align: right;\">\n",
       "      <th></th>\n",
       "      <th>book_id</th>\n",
       "      <th>goodreads_book_id</th>\n",
       "      <th>best_book_id</th>\n",
       "      <th>work_id</th>\n",
       "      <th>books_count</th>\n",
       "      <th>isbn</th>\n",
       "      <th>isbn13</th>\n",
       "      <th>authors</th>\n",
       "      <th>original_publication_year</th>\n",
       "      <th>original_title</th>\n",
       "      <th>...</th>\n",
       "      <th>ratings_count</th>\n",
       "      <th>work_ratings_count</th>\n",
       "      <th>work_text_reviews_count</th>\n",
       "      <th>ratings_1</th>\n",
       "      <th>ratings_2</th>\n",
       "      <th>ratings_3</th>\n",
       "      <th>ratings_4</th>\n",
       "      <th>ratings_5</th>\n",
       "      <th>image_url</th>\n",
       "      <th>small_image_url</th>\n",
       "    </tr>\n",
       "  </thead>\n",
       "  <tbody>\n",
       "    <tr>\n",
       "      <th>0</th>\n",
       "      <td>1</td>\n",
       "      <td>2767052</td>\n",
       "      <td>2767052</td>\n",
       "      <td>2792775</td>\n",
       "      <td>272</td>\n",
       "      <td>439023483</td>\n",
       "      <td>9.780439e+12</td>\n",
       "      <td>Suzanne Collins</td>\n",
       "      <td>2008.0</td>\n",
       "      <td>The Hunger Games</td>\n",
       "      <td>...</td>\n",
       "      <td>4780653</td>\n",
       "      <td>4942365</td>\n",
       "      <td>155254</td>\n",
       "      <td>66715</td>\n",
       "      <td>127936</td>\n",
       "      <td>560092</td>\n",
       "      <td>1481305</td>\n",
       "      <td>2706317</td>\n",
       "      <td>https://images.gr-assets.com/books/1447303603m...</td>\n",
       "      <td>https://images.gr-assets.com/books/1447303603s...</td>\n",
       "    </tr>\n",
       "    <tr>\n",
       "      <th>1</th>\n",
       "      <td>2</td>\n",
       "      <td>3</td>\n",
       "      <td>3</td>\n",
       "      <td>4640799</td>\n",
       "      <td>491</td>\n",
       "      <td>439554934</td>\n",
       "      <td>9.780440e+12</td>\n",
       "      <td>J.K. Rowling, Mary GrandPré</td>\n",
       "      <td>1997.0</td>\n",
       "      <td>Harry Potter and the Philosopher's Stone</td>\n",
       "      <td>...</td>\n",
       "      <td>4602479</td>\n",
       "      <td>4800065</td>\n",
       "      <td>75867</td>\n",
       "      <td>75504</td>\n",
       "      <td>101676</td>\n",
       "      <td>455024</td>\n",
       "      <td>1156318</td>\n",
       "      <td>3011543</td>\n",
       "      <td>https://images.gr-assets.com/books/1474154022m...</td>\n",
       "      <td>https://images.gr-assets.com/books/1474154022s...</td>\n",
       "    </tr>\n",
       "    <tr>\n",
       "      <th>2</th>\n",
       "      <td>3</td>\n",
       "      <td>41865</td>\n",
       "      <td>41865</td>\n",
       "      <td>3212258</td>\n",
       "      <td>226</td>\n",
       "      <td>316015849</td>\n",
       "      <td>9.780316e+12</td>\n",
       "      <td>Stephenie Meyer</td>\n",
       "      <td>2005.0</td>\n",
       "      <td>Twilight</td>\n",
       "      <td>...</td>\n",
       "      <td>3866839</td>\n",
       "      <td>3916824</td>\n",
       "      <td>95009</td>\n",
       "      <td>456191</td>\n",
       "      <td>436802</td>\n",
       "      <td>793319</td>\n",
       "      <td>875073</td>\n",
       "      <td>1355439</td>\n",
       "      <td>https://images.gr-assets.com/books/1361039443m...</td>\n",
       "      <td>https://images.gr-assets.com/books/1361039443s...</td>\n",
       "    </tr>\n",
       "  </tbody>\n",
       "</table>\n",
       "<p>3 rows × 23 columns</p>\n",
       "</div>"
      ],
      "text/plain": [
       "   book_id  goodreads_book_id  best_book_id  work_id  books_count       isbn  \\\n",
       "0        1            2767052       2767052  2792775          272  439023483   \n",
       "1        2                  3             3  4640799          491  439554934   \n",
       "2        3              41865         41865  3212258          226  316015849   \n",
       "\n",
       "         isbn13                      authors  original_publication_year  \\\n",
       "0  9.780439e+12              Suzanne Collins                     2008.0   \n",
       "1  9.780440e+12  J.K. Rowling, Mary GrandPré                     1997.0   \n",
       "2  9.780316e+12              Stephenie Meyer                     2005.0   \n",
       "\n",
       "                             original_title  ... ratings_count  \\\n",
       "0                          The Hunger Games  ...       4780653   \n",
       "1  Harry Potter and the Philosopher's Stone  ...       4602479   \n",
       "2                                  Twilight  ...       3866839   \n",
       "\n",
       "  work_ratings_count  work_text_reviews_count  ratings_1  ratings_2  \\\n",
       "0            4942365                   155254      66715     127936   \n",
       "1            4800065                    75867      75504     101676   \n",
       "2            3916824                    95009     456191     436802   \n",
       "\n",
       "   ratings_3  ratings_4  ratings_5  \\\n",
       "0     560092    1481305    2706317   \n",
       "1     455024    1156318    3011543   \n",
       "2     793319     875073    1355439   \n",
       "\n",
       "                                           image_url  \\\n",
       "0  https://images.gr-assets.com/books/1447303603m...   \n",
       "1  https://images.gr-assets.com/books/1474154022m...   \n",
       "2  https://images.gr-assets.com/books/1361039443m...   \n",
       "\n",
       "                                     small_image_url  \n",
       "0  https://images.gr-assets.com/books/1447303603s...  \n",
       "1  https://images.gr-assets.com/books/1474154022s...  \n",
       "2  https://images.gr-assets.com/books/1361039443s...  \n",
       "\n",
       "[3 rows x 23 columns]"
      ]
     },
     "execution_count": 6,
     "metadata": {},
     "output_type": "execute_result"
    }
   ],
   "source": [
    "books.head(3)"
   ]
  },
  {
   "cell_type": "markdown",
   "id": "888a5290",
   "metadata": {},
   "source": [
    "## 1.1Признаки пользователей: средний рейтинг, количество оценок, активность.\n"
   ]
  },
  {
   "cell_type": "markdown",
   "id": "5c673126",
   "metadata": {},
   "source": [
    "Создадим признаки, описывающие поведение пользователей:\n",
    "\n",
    "- **`avg_user_rating`** — средняя оценка, выставленная пользователем. Помогает понять, является ли пользователь «строгим» или «щедрым» рецензентом.  \n",
    "- **`user_ratings_count`** — общее количество оценок, выставленных пользователем. Характеризует активность и вовлечённость."
   ]
  },
  {
   "cell_type": "code",
   "execution_count": 28,
   "id": "eb64931c",
   "metadata": {},
   "outputs": [],
   "source": [
    "# Группируем данные по user_id и вычисляем количество и среднее значение оценок\n",
    "user_features = ratings.groupby('user_id')['rating'].agg(['count', 'mean']).reset_index()\n",
    "\n",
    "user_features.columns = ['user_id', 'user_ratings_count', 'user_avg_rating']\n"
   ]
  },
  {
   "cell_type": "code",
   "execution_count": 16,
   "id": "bd639309",
   "metadata": {},
   "outputs": [
    {
     "data": {
      "text/html": [
       "<div>\n",
       "<style scoped>\n",
       "    .dataframe tbody tr th:only-of-type {\n",
       "        vertical-align: middle;\n",
       "    }\n",
       "\n",
       "    .dataframe tbody tr th {\n",
       "        vertical-align: top;\n",
       "    }\n",
       "\n",
       "    .dataframe thead th {\n",
       "        text-align: right;\n",
       "    }\n",
       "</style>\n",
       "<table border=\"1\" class=\"dataframe\">\n",
       "  <thead>\n",
       "    <tr style=\"text-align: right;\">\n",
       "      <th></th>\n",
       "      <th>user_id</th>\n",
       "      <th>user_ratings_count</th>\n",
       "      <th>user_avg_rating</th>\n",
       "    </tr>\n",
       "  </thead>\n",
       "  <tbody>\n",
       "    <tr>\n",
       "      <th>0</th>\n",
       "      <td>1</td>\n",
       "      <td>117</td>\n",
       "      <td>3.589744</td>\n",
       "    </tr>\n",
       "    <tr>\n",
       "      <th>1</th>\n",
       "      <td>2</td>\n",
       "      <td>65</td>\n",
       "      <td>4.415385</td>\n",
       "    </tr>\n",
       "    <tr>\n",
       "      <th>2</th>\n",
       "      <td>3</td>\n",
       "      <td>91</td>\n",
       "      <td>1.736264</td>\n",
       "    </tr>\n",
       "    <tr>\n",
       "      <th>3</th>\n",
       "      <td>4</td>\n",
       "      <td>134</td>\n",
       "      <td>3.768657</td>\n",
       "    </tr>\n",
       "    <tr>\n",
       "      <th>4</th>\n",
       "      <td>5</td>\n",
       "      <td>100</td>\n",
       "      <td>4.040000</td>\n",
       "    </tr>\n",
       "    <tr>\n",
       "      <th>...</th>\n",
       "      <td>...</td>\n",
       "      <td>...</td>\n",
       "      <td>...</td>\n",
       "    </tr>\n",
       "    <tr>\n",
       "      <th>53419</th>\n",
       "      <td>53420</td>\n",
       "      <td>110</td>\n",
       "      <td>3.345455</td>\n",
       "    </tr>\n",
       "    <tr>\n",
       "      <th>53420</th>\n",
       "      <td>53421</td>\n",
       "      <td>110</td>\n",
       "      <td>4.609091</td>\n",
       "    </tr>\n",
       "    <tr>\n",
       "      <th>53421</th>\n",
       "      <td>53422</td>\n",
       "      <td>130</td>\n",
       "      <td>4.215385</td>\n",
       "    </tr>\n",
       "    <tr>\n",
       "      <th>53422</th>\n",
       "      <td>53423</td>\n",
       "      <td>77</td>\n",
       "      <td>4.454545</td>\n",
       "    </tr>\n",
       "    <tr>\n",
       "      <th>53423</th>\n",
       "      <td>53424</td>\n",
       "      <td>133</td>\n",
       "      <td>4.406015</td>\n",
       "    </tr>\n",
       "  </tbody>\n",
       "</table>\n",
       "<p>53424 rows × 3 columns</p>\n",
       "</div>"
      ],
      "text/plain": [
       "       user_id  user_ratings_count  user_avg_rating\n",
       "0            1                 117         3.589744\n",
       "1            2                  65         4.415385\n",
       "2            3                  91         1.736264\n",
       "3            4                 134         3.768657\n",
       "4            5                 100         4.040000\n",
       "...        ...                 ...              ...\n",
       "53419    53420                 110         3.345455\n",
       "53420    53421                 110         4.609091\n",
       "53421    53422                 130         4.215385\n",
       "53422    53423                  77         4.454545\n",
       "53423    53424                 133         4.406015\n",
       "\n",
       "[53424 rows x 3 columns]"
      ]
     },
     "execution_count": 16,
     "metadata": {},
     "output_type": "execute_result"
    }
   ],
   "source": [
    "user_features"
   ]
  },
  {
   "cell_type": "markdown",
   "id": "0653f810",
   "metadata": {},
   "source": [
    "## 1.2 Признаки книг: популярность, разнообразие оценок, тематические категории"
   ]
  },
  {
   "cell_type": "markdown",
   "id": "0078968b",
   "metadata": {},
   "source": [
    "Cоздадим признаки, описывающие каждую книгу.\n",
    "\n",
    "weighted_rating: Взвешенный рейтинг, который учитывает не только среднюю оценку, но и количество голосов.\n",
    "\n",
    "rating_std_dev: Стандартное отклонение оценок для книги (разброс мнений).\n",
    "\n",
    "tags_list: Список тематических тегов для каждой книги."
   ]
  },
  {
   "cell_type": "code",
   "execution_count": 29,
   "id": "9be90f3c",
   "metadata": {},
   "outputs": [],
   "source": [
    "C = books['average_rating'].mean()              # Популярность (Взвешенный рейтинг)\n",
    "m = books['ratings_count'].quantile(0.75)\n",
    "\n",
    "books['weighted_rating'] = (books['ratings_count'] / (books['ratings_count'] + m)) * books['average_rating'] + \\\n",
    "                         (m / (books['ratings_count'] + m)) * C"
   ]
  },
  {
   "cell_type": "code",
   "execution_count": 30,
   "id": "5edded09",
   "metadata": {},
   "outputs": [
    {
     "name": "stderr",
     "output_type": "stream",
     "text": [
      "/tmp/ipykernel_1999624/1821426885.py:4: FutureWarning: A value is trying to be set on a copy of a DataFrame or Series through chained assignment using an inplace method.\n",
      "The behavior will change in pandas 3.0. This inplace method will never work because the intermediate object on which we are setting values always behaves as a copy.\n",
      "\n",
      "For example, when doing 'df[col].method(value, inplace=True)', try using 'df.method({col: value}, inplace=True)' or df[col] = df[col].method(value) instead, to perform the operation inplace on the original object.\n",
      "\n",
      "\n",
      "  books['rating_std_dev'].fillna(0, inplace=True)\n"
     ]
    }
   ],
   "source": [
    "rating_std = ratings.groupby('book_id')['rating'].std().reset_index()  ## Разнообразие оценок (Стандартное отклонение)\n",
    "rating_std.rename(columns={'rating': 'rating_std_dev'}, inplace=True)\n",
    "books = pd.merge(books, rating_std, on='book_id', how='left')\n",
    "books['rating_std_dev'].fillna(0, inplace=True)"
   ]
  },
  {
   "cell_type": "code",
   "execution_count": 31,
   "id": "564f8d8d",
   "metadata": {},
   "outputs": [],
   "source": [
    "book_tags_merged = pd.merge(book_tags, tags, on='tag_id')   ##  Тематические категории (Теги)\n",
    "book_tags_agg = book_tags_merged.groupby('goodreads_book_id')['tag_name'].apply(list).reset_index()\n",
    "book_tags_agg.rename(columns={'tag_name': 'tags_list'}, inplace=True)\n",
    "books = pd.merge(books, book_tags_agg, on='goodreads_book_id', how='left')"
   ]
  },
  {
   "cell_type": "markdown",
   "id": "074d1f9c",
   "metadata": {},
   "source": [
    "## 1.3 Создание признаков взаимодействий"
   ]
  },
  {
   "cell_type": "code",
   "execution_count": null,
   "id": "88113752",
   "metadata": {},
   "outputs": [
    {
     "name": "stdout",
     "output_type": "stream",
     "text": [
      "Финальный объединенный датасет с признаками взаимодействия готов.\n",
      "Количество строк: 5976479\n",
      "Количество столбцов: 32\n"
     ]
    }
   ],
   "source": [
    "# Сначала объединяем все данные в один датафрейм\n",
    "data = pd.merge(ratings, user_features, on='user_id', how='left')\n",
    "data = pd.merge(data, books, on='book_id', how='left')\n",
    "\n",
    "# Теперь создаем признаки взаимодействия\n",
    "data['rating_deviation_user'] = data['rating'] - data['user_avg_rating']\n",
    "data['rating_deviation_book'] = data['rating'] - data['average_rating']\n",
    "\n",
    "\n",
    "print(\"Финальный объединенный датасет с признаками взаимодействия .\")\n",
    "print(\"Количество строк:\", len(data))\n",
    "print(\"Количество столбцов:\", len(data.columns))\n"
   ]
  },
  {
   "cell_type": "code",
   "execution_count": 33,
   "id": "de4e5691",
   "metadata": {},
   "outputs": [
    {
     "name": "stdout",
     "output_type": "stream",
     "text": [
      "<class 'pandas.core.frame.DataFrame'>\n",
      "RangeIndex: 5976479 entries, 0 to 5976478\n",
      "Data columns (total 32 columns):\n",
      " #   Column                     Dtype  \n",
      "---  ------                     -----  \n",
      " 0   user_id                    int64  \n",
      " 1   book_id                    int64  \n",
      " 2   rating                     int64  \n",
      " 3   user_ratings_count         int64  \n",
      " 4   user_avg_rating            float64\n",
      " 5   goodreads_book_id          int64  \n",
      " 6   best_book_id               int64  \n",
      " 7   work_id                    int64  \n",
      " 8   books_count                int64  \n",
      " 9   isbn                       object \n",
      " 10  isbn13                     float64\n",
      " 11  authors                    object \n",
      " 12  original_publication_year  float64\n",
      " 13  original_title             object \n",
      " 14  title                      object \n",
      " 15  language_code              object \n",
      " 16  average_rating             float64\n",
      " 17  ratings_count              int64  \n",
      " 18  work_ratings_count         int64  \n",
      " 19  work_text_reviews_count    int64  \n",
      " 20  ratings_1                  int64  \n",
      " 21  ratings_2                  int64  \n",
      " 22  ratings_3                  int64  \n",
      " 23  ratings_4                  int64  \n",
      " 24  ratings_5                  int64  \n",
      " 25  image_url                  object \n",
      " 26  small_image_url            object \n",
      " 27  weighted_rating            float64\n",
      " 28  rating_std_dev             float64\n",
      " 29  tags_list                  object \n",
      " 30  rating_deviation_user      float64\n",
      " 31  rating_deviation_book      float64\n",
      "dtypes: float64(8), int64(16), object(8)\n",
      "memory usage: 1.4+ GB\n"
     ]
    }
   ],
   "source": [
    "data.info()"
   ]
  },
  {
   "cell_type": "code",
   "execution_count": 35,
   "id": "40be8764",
   "metadata": {},
   "outputs": [],
   "source": [
    "data.to_parquet('data_advanced.parquet', index=False)"
   ]
  }
 ],
 "metadata": {
  "kernelspec": {
   "display_name": "base",
   "language": "python",
   "name": "python3"
  },
  "language_info": {
   "codemirror_mode": {
    "name": "ipython",
    "version": 3
   },
   "file_extension": ".py",
   "mimetype": "text/x-python",
   "name": "python",
   "nbconvert_exporter": "python",
   "pygments_lexer": "ipython3",
   "version": "3.12.7"
  }
 },
 "nbformat": 4,
 "nbformat_minor": 5
}
